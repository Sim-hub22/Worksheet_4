{
  "nbformat": 4,
  "nbformat_minor": 0,
  "metadata": {
    "colab": {
      "provenance": []
    },
    "kernelspec": {
      "name": "python3",
      "display_name": "Python 3"
    },
    "language_info": {
      "name": "python"
    }
  },
  "cells": [
    {
      "cell_type": "code",
      "source": [
        "# Imports\n",
        "import pandas as pd\n",
        "import numpy as np\n",
        "from sklearn.preprocessing import StandardScaler\n",
        "import time\n",
        "import matplotlib.pyplot as plt"
      ],
      "metadata": {
        "id": "ND4_laHdUxJ1"
      },
      "execution_count": null,
      "outputs": []
    },
    {
      "cell_type": "markdown",
      "source": [
        "Problem - 1: Perform a classification task with knn from scratch."
      ],
      "metadata": {
        "id": "IoBU5caEU3_B"
      }
    },
    {
      "cell_type": "markdown",
      "source": [
        "1. Load the Dataset:\n",
        "\n",
        "• Read the dataset into a pandas DataFrame.\n",
        "\n",
        "• Display the first few rows and perform exploratory data analysis (EDA) to understand the dataset\n",
        "(e.g., check data types, missing values, summary statistics)."
      ],
      "metadata": {
        "id": "ZQa2EoMxTCZc"
      }
    },
    {
      "cell_type": "code",
      "source": [
        "# Read the dataset into a pandas DataFrame.\n",
        "dataset_path = \"/content/diabetes.csv\"\n",
        "df = pd.read_csv(dataset_path)\n",
        "\n",
        "# Display the first few rows and perform exploratory data analysis (EDA) to understand the dataset\n",
        "# (e.g., check data types, missing values, summary statistics).\n",
        "print(\"First few rows of the dataset:\")\n",
        "print(df.head())\n",
        "\n",
        "print(\"\\nData Types:\")\n",
        "print(df.dtypes)\n",
        "\n",
        "print(\"\\nMissing Values:\")\n",
        "print(df.isnull().sum())\n",
        "\n",
        "print(\"\\nSummary Statistics:\")\n",
        "print(df.describe())"
      ],
      "metadata": {
        "colab": {
          "base_uri": "https://localhost:8080/"
        },
        "id": "vZC60u0hTEc9",
        "outputId": "b77113d9-1fd2-4b49-bc7b-9f57643e28d9"
      },
      "execution_count": null,
      "outputs": [
        {
          "output_type": "stream",
          "name": "stdout",
          "text": [
            "First few rows of the dataset:\n",
            "   Pregnancies  Glucose  BloodPressure  SkinThickness  Insulin   BMI  \\\n",
            "0            6      148             72             35        0  33.6   \n",
            "1            1       85             66             29        0  26.6   \n",
            "2            8      183             64              0        0  23.3   \n",
            "3            1       89             66             23       94  28.1   \n",
            "4            0      137             40             35      168  43.1   \n",
            "\n",
            "   DiabetesPedigreeFunction  Age  Outcome  \n",
            "0                     0.627   50        1  \n",
            "1                     0.351   31        0  \n",
            "2                     0.672   32        1  \n",
            "3                     0.167   21        0  \n",
            "4                     2.288   33        1  \n",
            "\n",
            "Data Types:\n",
            "Pregnancies                   int64\n",
            "Glucose                       int64\n",
            "BloodPressure                 int64\n",
            "SkinThickness                 int64\n",
            "Insulin                       int64\n",
            "BMI                         float64\n",
            "DiabetesPedigreeFunction    float64\n",
            "Age                           int64\n",
            "Outcome                       int64\n",
            "dtype: object\n",
            "\n",
            "Missing Values:\n",
            "Pregnancies                 0\n",
            "Glucose                     0\n",
            "BloodPressure               0\n",
            "SkinThickness               0\n",
            "Insulin                     0\n",
            "BMI                         0\n",
            "DiabetesPedigreeFunction    0\n",
            "Age                         0\n",
            "Outcome                     0\n",
            "dtype: int64\n",
            "\n",
            "Summary Statistics:\n",
            "       Pregnancies     Glucose  BloodPressure  SkinThickness     Insulin  \\\n",
            "count   768.000000  768.000000     768.000000     768.000000  768.000000   \n",
            "mean      3.845052  120.894531      69.105469      20.536458   79.799479   \n",
            "std       3.369578   31.972618      19.355807      15.952218  115.244002   \n",
            "min       0.000000    0.000000       0.000000       0.000000    0.000000   \n",
            "25%       1.000000   99.000000      62.000000       0.000000    0.000000   \n",
            "50%       3.000000  117.000000      72.000000      23.000000   30.500000   \n",
            "75%       6.000000  140.250000      80.000000      32.000000  127.250000   \n",
            "max      17.000000  199.000000     122.000000      99.000000  846.000000   \n",
            "\n",
            "              BMI  DiabetesPedigreeFunction         Age     Outcome  \n",
            "count  768.000000                768.000000  768.000000  768.000000  \n",
            "mean    31.992578                  0.471876   33.240885    0.348958  \n",
            "std      7.884160                  0.331329   11.760232    0.476951  \n",
            "min      0.000000                  0.078000   21.000000    0.000000  \n",
            "25%     27.300000                  0.243750   24.000000    0.000000  \n",
            "50%     32.000000                  0.372500   29.000000    0.000000  \n",
            "75%     36.600000                  0.626250   41.000000    1.000000  \n",
            "max     67.100000                  2.420000   81.000000    1.000000  \n"
          ]
        }
      ]
    },
    {
      "cell_type": "markdown",
      "source": [
        "2. Handle Missing Data:\n",
        "\n",
        "• Handle any missing values appropriately, either by dropping or imputing them based on the data."
      ],
      "metadata": {
        "id": "N4b5vbs5ULmK"
      }
    },
    {
      "cell_type": "code",
      "source": [
        "print(\"Missing Values Before Handling:\")\n",
        "print(df.isnull().sum())\n",
        "\n",
        "df_cleaned = df.dropna()\n",
        "\n",
        "print(\"\\nMissing Values After Handling:\")\n",
        "print(df_cleaned.isnull().sum())"
      ],
      "metadata": {
        "colab": {
          "base_uri": "https://localhost:8080/"
        },
        "id": "9KwR8_ITUNLw",
        "outputId": "9dac67d2-5ebe-49ec-f31f-72205dba49e3"
      },
      "execution_count": 12,
      "outputs": [
        {
          "output_type": "stream",
          "name": "stdout",
          "text": [
            "Missing Values Before Handling:\n",
            "Pregnancies                 0\n",
            "Glucose                     0\n",
            "BloodPressure               0\n",
            "SkinThickness               0\n",
            "Insulin                     0\n",
            "BMI                         0\n",
            "DiabetesPedigreeFunction    0\n",
            "Age                         0\n",
            "Outcome                     0\n",
            "dtype: int64\n",
            "\n",
            "Missing Values After Handling:\n",
            "Pregnancies                 0\n",
            "Glucose                     0\n",
            "BloodPressure               0\n",
            "SkinThickness               0\n",
            "Insulin                     0\n",
            "BMI                         0\n",
            "DiabetesPedigreeFunction    0\n",
            "Age                         0\n",
            "Outcome                     0\n",
            "dtype: int64\n"
          ]
        }
      ]
    },
    {
      "cell_type": "markdown",
      "source": [
        "3. Feature Engineering:\n",
        "\n",
        "• Separate the feature matrix (X) and target variable (y).\n",
        "\n",
        "• Perform a train - test split from scratch using a 70% − 30% ratio."
      ],
      "metadata": {
        "id": "jbmHokkpUcMd"
      }
    },
    {
      "cell_type": "code",
      "source": [
        "import numpy as np\n",
        "# Separate features (X) and target (y)\n",
        "X = df.drop(columns=['Outcome']).values  # Convert features to a NumPy array\n",
        "y = df['Outcome'].values  # Convert target to a NumPy array\n",
        "\n",
        "# Define a custom train-test split function from scratch\n",
        "def train_test_split_scratch(X, y, test_size=0.3, random_seed=42):\n",
        "    np.random.seed(random_seed)  # Set random seed for reproducibility\n",
        "    indices = np.arange(X.shape[0])\n",
        "    np.random.shuffle(indices)  # Shuffle indices\n",
        "    test_split_size = int(len(X) * test_size)  # Calculate the size of the test set\n",
        "    test_indices = indices[:test_split_size]\n",
        "    train_indices = indices[test_split_size:]\n",
        "    X_train, X_test = X[train_indices], X[test_indices]\n",
        "    y_train, y_test = y[train_indices], y[test_indices]\n",
        "    return X_train, X_test, y_train, y_test\n",
        "\n",
        "# Perform train-test split\n",
        "X_train, X_test, y_train, y_test = train_test_split_scratch(X, y, test_size=0.3)\n",
        "\n",
        "# Output shapes to verify the split\n",
        "print(\"Shape of X_train:\", X_train.shape)\n",
        "print(\"Shape of X_test:\", X_test.shape)\n",
        "print(\"Shape of y_train:\", y_train.shape)\n",
        "print(\"Shape of y_test:\", y_test.shape)"
      ],
      "metadata": {
        "colab": {
          "base_uri": "https://localhost:8080/"
        },
        "id": "ho-cEbvVUmPk",
        "outputId": "1d35aee6-db7b-499b-cb4e-3e47517ef5c9"
      },
      "execution_count": 18,
      "outputs": [
        {
          "output_type": "stream",
          "name": "stdout",
          "text": [
            "Shape of X_train: (538, 8)\n",
            "Shape of X_test: (230, 8)\n",
            "Shape of y_train: (538,)\n",
            "Shape of y_test: (230,)\n"
          ]
        }
      ]
    },
    {
      "cell_type": "markdown",
      "source": [
        "4. Implement KNN:\n",
        "\n",
        "• Build the KNN algorithm from scratch (no libraries like sickit-learn for KNN).\n",
        "\n",
        "• Compute distances using Euclidean distance.\n",
        "\n",
        "• Write functions for:\n",
        "\n",
        "– Predicting the class for a single query.\n",
        "\n",
        "– Predicting classes for all test samples.\n",
        "\n",
        "• Evaluate the performance using accuracy."
      ],
      "metadata": {
        "id": "zS-CIR8HVk1U"
      }
    },
    {
      "cell_type": "code",
      "source": [
        "import numpy as np\n",
        "\n",
        "def euclidean_distance(point1, point2):\n",
        "    \"\"\"\n",
        "    Calculate the Euclidean distance between two points in n-dimensional space.\n",
        "\n",
        "    Arguments:\n",
        "    point1 : np.ndarray\n",
        "        The first point as a numpy array.\n",
        "    point2 : np.ndarray\n",
        "        The second point as a numpy array.\n",
        "\n",
        "    Returns:\n",
        "    float\n",
        "        The Euclidean distance between the two points.\n",
        "\n",
        "    Raises:\n",
        "    ValueError: If the input points do not have the same dimensionality or are not numeric.\n",
        "    \"\"\"\n",
        "    # Ensure both points are numeric (convert to floats if necessary)\n",
        "    point1 = np.array(point1, dtype=float)\n",
        "    point2 = np.array(point2, dtype=float)\n",
        "\n",
        "    # Check if the points are of the same dimension\n",
        "    if point1.shape != point2.shape:\n",
        "        raise ValueError(\"Points must have the same dimensions to calculate Euclidean distance.\")\n",
        "\n",
        "    # Calculate the Euclidean distance\n",
        "    distance = np.sqrt(np.sum((point1 - point2)**2))\n",
        "    return distance\n",
        "\n",
        "# Test case for the function\n",
        "try:\n",
        "    # Define two points\n",
        "    point1 = np.array([3, 4])\n",
        "    point2 = np.array([0, 0])\n",
        "\n",
        "    # Calculate the distance\n",
        "    result = euclidean_distance(point1, point2)\n",
        "\n",
        "    # Check if the result matches the expected value (e.g., sqrt(3^2 + 4^2) = 5)\n",
        "    expected_result = 5.0\n",
        "    assert np.isclose(result, expected_result), f\"Expected {expected_result}, but got {result}\"\n",
        "\n",
        "    print(\"Test passed successfully!\")\n",
        "except ValueError as ve:\n",
        "    print(f\"ValueError: {ve}\")\n",
        "except AssertionError as ae:\n",
        "    print(f\"AssertionError: {ae}\")\n",
        "except Exception as e:\n",
        "    print(f\"An unexpected error occurred: {e}\")"
      ],
      "metadata": {
        "colab": {
          "base_uri": "https://localhost:8080/"
        },
        "id": "DZ5GuPjGVyBC",
        "outputId": "3a9d01b4-b416-4069-bc31-582834b06d5b"
      },
      "execution_count": 19,
      "outputs": [
        {
          "output_type": "stream",
          "name": "stdout",
          "text": [
            "Test passed successfully!\n"
          ]
        }
      ]
    },
    {
      "cell_type": "code",
      "source": [
        "def knn_predict_single(query, X_train, y_train, k=3):\n",
        "    \"\"\"\n",
        "    Predict the class label for a single query using the K-nearest neighbors algorithm.\n",
        "\n",
        "    Arguments:\n",
        "    query : np.ndarray\n",
        "        The query point for which the prediction is to be made.\n",
        "    X_train : np.ndarray\n",
        "        The training feature matrix.\n",
        "    y_train : np.ndarray\n",
        "        The training labels.\n",
        "    k : int, optional\n",
        "        The number of nearest neighbors to consider (default is 3).\n",
        "\n",
        "    Returns:\n",
        "    int\n",
        "        The predicted class label for the query.\n",
        "    \"\"\"\n",
        "    distances = [euclidean_distance(query, x) for x in X_train]\n",
        "    sorted_indices = np.argsort(distances)\n",
        "    nearest_indices = sorted_indices[:k]\n",
        "    nearest_labels = y_train[nearest_indices]\n",
        "    prediction = np.bincount(nearest_labels).argmax()\n",
        "\n",
        "    return prediction"
      ],
      "metadata": {
        "id": "bl_hoViTldRc"
      },
      "execution_count": 20,
      "outputs": []
    },
    {
      "cell_type": "code",
      "source": [
        "def knn_predict(X_test, X_train, y_train, k=3):\n",
        "    \"\"\"\n",
        "    Predict the class labels for all test samples using the K-nearest neighbors algorithm.\n",
        "\n",
        "    Arguments:\n",
        "    X_test : np.ndarray\n",
        "        The test feature matrix.\n",
        "    X_train : np.ndarray\n",
        "        The training feature matrix.\n",
        "    y_train : np.ndarray\n",
        "        The training labels.\n",
        "    k : int, optional\n",
        "        The number of nearest neighbors to consider (default is 3).\n",
        "\n",
        "    Returns:\n",
        "    np.ndarray\n",
        "        An array of predicted class labels for the test samples.\n",
        "    \"\"\"\n",
        "    predictions = [knn_predict_single(x, X_train, y_train, k) for x in X_test]\n",
        "    return np.array(predictions)\n"
      ],
      "metadata": {
        "id": "9pBxRsGElgal"
      },
      "execution_count": 21,
      "outputs": []
    },
    {
      "cell_type": "code",
      "source": [
        "try:\n",
        "    # Define the test set for the test case\n",
        "    X_test_sample = X_test[:5]  # Taking a small subset for testing\n",
        "    y_test_sample = y_test[:5]  # Corresponding labels for the subset\n",
        "\n",
        "    # Make predictions\n",
        "    predictions = knn_predict(X_test_sample, X_train, y_train, k=3)\n",
        "\n",
        "    # Print test results\n",
        "    print(\"Predictions:\", predictions)\n",
        "    print(\"Actual labels:\", y_test_sample)\n",
        "\n",
        "    # Check if predictions match expected format\n",
        "    assert predictions.shape == y_test_sample.shape, \"The shape of predictions does not match the shape of the actual labels.\"\n",
        "\n",
        "    print(\"Test case passed successfully!\")\n",
        "except AssertionError as ae:\n",
        "    print(f\"AssertionError: {ae}\")\n",
        "except Exception as e:\n",
        "    print(f\"An unexpected error occurred: {e}\")"
      ],
      "metadata": {
        "colab": {
          "base_uri": "https://localhost:8080/"
        },
        "id": "ueyLxI-Tlih1",
        "outputId": "c6856ca5-5ae4-49d1-d6d0-f6c801c236f2"
      },
      "execution_count": 24,
      "outputs": [
        {
          "output_type": "stream",
          "name": "stdout",
          "text": [
            "Predictions: [0 1 0 1 1]\n",
            "Actual labels: [0 0 0 0 0]\n",
            "Test case passed successfully!\n"
          ]
        }
      ]
    },
    {
      "cell_type": "code",
      "source": [
        "def compute_accuracy(y_true, y_pred):\n",
        "    \"\"\"\n",
        "    Compute the accuracy of predictions.\n",
        "\n",
        "    Arguments:\n",
        "    y_true : np.ndarray\n",
        "        The true labels.\n",
        "    y_pred : np.ndarray\n",
        "        The predicted labels.\n",
        "\n",
        "    Returns:\n",
        "    float : The accuracy as a percentage (0 to 100).\n",
        "    \"\"\"\n",
        "    correct_predictions = np.sum(y_true == y_pred)\n",
        "    total_predictions = len(y_true)\n",
        "    accuracy = (correct_predictions / total_predictions) * 100\n",
        "    return accuracy\n",
        "\n",
        "try:\n",
        "    # Make predictions on the entire test set\n",
        "    predictions = knn_predict(X_test, X_train, y_train, k=3)\n",
        "\n",
        "    # Compute the accuracy\n",
        "    accuracy = compute_accuracy(y_test, predictions)\n",
        "\n",
        "    # Print the accuracy\n",
        "    print(f\"Accuracy of the KNN model on the test set: {accuracy:.2f}%\")\n",
        "except Exception as e:\n",
        "    print(f\"An unexpected error occurred during prediction or accuracy computation: {e}\")"
      ],
      "metadata": {
        "colab": {
          "base_uri": "https://localhost:8080/"
        },
        "id": "HOEIquxvn17W",
        "outputId": "c2fa3ab8-ad5f-4491-fc25-4dcbf08363f1"
      },
      "execution_count": 25,
      "outputs": [
        {
          "output_type": "stream",
          "name": "stdout",
          "text": [
            "Accuracy of the KNN model on the test set: 67.39%\n"
          ]
        }
      ]
    },
    {
      "cell_type": "markdown",
      "source": [
        "Problem - 2 - Experimentation:\n",
        "1. Repeat the Classification Task:\n",
        "\n",
        "• Scale the Feature matrix X.\n",
        "\n",
        "• Use the scaled data for training and testing the kNN Classifier.\n",
        "\n",
        "• Record the results."
      ],
      "metadata": {
        "id": "EX2GdmGdWI6h"
      }
    },
    {
      "cell_type": "code",
      "source": [
        "# Step 1: Calculate the mean and standard deviation for each feature (column)\n",
        "mean = np.mean(X_train, axis=0)\n",
        "std_dev = np.std(X_train, axis=0)\n",
        "\n",
        "# Step 2: Scale the feature matrix (X_train and X_test)\n",
        "X_train_scaled = (X_train - mean) / std_dev  # Subtract the mean and divide by the std deviation\n",
        "X_test_scaled = (X_test - mean) / std_dev    # Apply the same transformation to the test data\n",
        "\n",
        "# Step 3: Run kNN on the scaled data\n",
        "predictions_scaled = knn_predict(X_test_scaled, X_train_scaled, y_train, k=3)\n",
        "\n",
        "# Step 4: Compute the accuracy of the scaled dataset\n",
        "accuracy_scaled = compute_accuracy(y_test, predictions_scaled)\n",
        "print(f\"Accuracy of kNN on the scaled dataset: {accuracy_scaled:.2f}%\")"
      ],
      "metadata": {
        "colab": {
          "base_uri": "https://localhost:8080/"
        },
        "id": "cNYB70vKb_8g",
        "outputId": "89b1e57e-7d44-4996-bf4b-c8f42614907b"
      },
      "execution_count": 26,
      "outputs": [
        {
          "output_type": "stream",
          "name": "stdout",
          "text": [
            "Accuracy of kNN on the scaled dataset: 70.87%\n"
          ]
        }
      ]
    },
    {
      "cell_type": "markdown",
      "source": [
        "2. Comparative Analysis: Compare the Results -\n",
        "\n",
        "• Compare the accuracy and performance of the kNN model on the original dataset from problem 1\n",
        "versus the scaled dataset.\n",
        "\n"
      ],
      "metadata": {
        "id": "UXeb3J9Ucu2F"
      }
    },
    {
      "cell_type": "code",
      "source": [
        "# • Compare the accuracy and performance of the kNN model on the original dataset from problem 1 versus the scaled dataset.\n",
        "y_pred_original = predict(X_test_np, X_train_np, y_train_np, k)\n",
        "accuracy_original = evaluate_accuracy(y_test_np, y_pred_original)\n",
        "\n",
        "print(f\"Accuracy of KNN classifier with k={k} on original data: {accuracy_original:.2f}\")\n",
        "print(f\"Accuracy of KNN classifier with k={k} on scaled data: {accuracy_scaled:.2f}\")"
      ],
      "metadata": {
        "colab": {
          "base_uri": "https://localhost:8080/"
        },
        "id": "TqvJ8300cynk",
        "outputId": "5257eb5c-0eeb-41ea-f08c-223780f86fb8"
      },
      "execution_count": 27,
      "outputs": [
        {
          "output_type": "stream",
          "name": "stdout",
          "text": [
            "Accuracy of KNN classifier with k=3 on original data: 0.75\n",
            "Accuracy of KNN classifier with k=3 on scaled data: 70.87\n"
          ]
        }
      ]
    },
    {
      "cell_type": "markdown",
      "source": [
        "Problem - 3 - Experimentation with k:\n",
        "1. Vary the number of neighbors - k:\n",
        "\n",
        "• Run the KNN model on both the original and scaled datasets for a range of:\n",
        "\n",
        "k= 1, 2, 3, . . . 15\n",
        "\n",
        "• For each k, record:\n",
        "\n",
        "– Accuracy.\n",
        "\n",
        "– Time taken to make predictions.\n",
        "\n",
        "2. Visualize the Results:\n",
        "\n",
        "• Plot the following graphs:\n",
        "\n",
        "– k vs. Accuracy for original and scaled datasets.\n",
        "\n",
        "– k vs. Time Taken for original and scaled datasets."
      ],
      "metadata": {
        "id": "d4T-tYJ_dOQs"
      }
    },
    {
      "cell_type": "code",
      "source": [
        "import numpy as np\n",
        "import matplotlib.pyplot as plt\n",
        "import time\n",
        "\n",
        "# Euclidean distance function\n",
        "def euclidean_distance(point1, point2):\n",
        "    return np.sqrt(np.sum((point1 - point2) ** 2))\n",
        "\n",
        "# Get neighbors based on Euclidean distance\n",
        "def get_neighbors(X_train, y_train, test_point, k):\n",
        "    distances = []\n",
        "    for i, train_point in enumerate(X_train):  # Iterate directly through the NumPy array\n",
        "        dist = euclidean_distance(train_point, test_point)\n",
        "        distances.append((dist, y_train[i]))  # Append distance and corresponding target\n",
        "    distances.sort(key=lambda x: x[0])  # Sort by distance\n",
        "    return distances[:k]  # Return the k nearest neighbors\n",
        "\n",
        "# Predict the class for a single query point\n",
        "def predict_class(X_train, y_train, test_point, k):\n",
        "    neighbors = get_neighbors(X_train, y_train, test_point, k)\n",
        "    class_votes = {}\n",
        "    for _, label in neighbors:\n",
        "        if label in class_votes:\n",
        "            class_votes[label] += 1\n",
        "        else:\n",
        "            class_votes[label] = 1\n",
        "    return max(class_votes, key=class_votes.get)\n",
        "\n",
        "# Predict classes for all test samples\n",
        "def predict_all(X_train, y_train, X_test, k):\n",
        "    predictions = []\n",
        "    for test_point in X_test:  # Iterate through NumPy array\n",
        "        predicted_class = predict_class(X_train, y_train, test_point, k)\n",
        "        predictions.append(predicted_class)\n",
        "    return predictions\n",
        "\n",
        "# Compute accuracy\n",
        "def compute_accuracy(y_true, y_pred):\n",
        "    correct = sum(y_true == y_pred)\n",
        "    return (correct / len(y_true)) * 100  # Return as percentage\n",
        "\n",
        "# Function to test KNN on different values of k and plot the accuracies and time taken\n",
        "def experiment_knn_k_values(X_train, y_train, X_test, y_test, k_values, dataset_type=\"Original\"):\n",
        "    \"\"\"\n",
        "    Run KNN predictions for different values of k and plot the accuracies and time taken for each k.\n",
        "\n",
        "    Arguments:\n",
        "    X_train : np.ndarray\n",
        "        The training feature matrix.\n",
        "    y_train : np.ndarray\n",
        "        The training labels.\n",
        "    X_test : np.ndarray\n",
        "        The test feature matrix.\n",
        "    y_test : np.ndarray\n",
        "        The test labels.\n",
        "    k_values : list of int\n",
        "        A list of k values to experiment with.\n",
        "    dataset_type : str\n",
        "        A label for the dataset type, either 'Original' or 'Scaled'.\n",
        "\n",
        "    Returns:\n",
        "    dict\n",
        "        A dictionary with k values as keys and their corresponding accuracies as values.\n",
        "    \"\"\"\n",
        "    accuracies = {}\n",
        "    times_taken = {}\n",
        "\n",
        "    for k in k_values:\n",
        "        # Measure the time taken for predictions\n",
        "        start_time = time.time()\n",
        "        predictions = predict_all(X_train, y_train, X_test, k)\n",
        "        end_time = time.time()\n",
        "\n",
        "        # Compute the accuracy\n",
        "        accuracy = compute_accuracy(y_test, predictions)\n",
        "        accuracies[k] = accuracy\n",
        "        times_taken[k] = end_time - start_time\n",
        "\n",
        "        print(f\"Accuracy for k={k} ({dataset_type}): {accuracy:.2f}%, Time Taken: {times_taken[k]:.4f} seconds\")\n",
        "\n",
        "    return accuracies, times_taken\n",
        "\n",
        "# Define the range of k values to experiment with\n",
        "k_values = range(1, 16)\n",
        "\n",
        "# Run the experiment on the original dataset\n",
        "accuracies_original, times_taken_original = experiment_knn_k_values(X_train, y_train, X_test, y_test, k_values, dataset_type=\"Original\")\n",
        "\n",
        "# Run the experiment on the scaled dataset\n",
        "accuracies_scaled, times_taken_scaled = experiment_knn_k_values(X_train_scaled, y_train, X_test_scaled, y_test, k_values, dataset_type=\"Scaled\")\n",
        "\n",
        "# Plot the results in one graph\n",
        "plt.figure(figsize=(14, 6))\n",
        "\n",
        "# Plot k vs Accuracy for both original and scaled datasets\n",
        "plt.subplot(1, 2, 1)\n",
        "plt.plot(k_values, list(accuracies_original.values()), marker='o', color='b', label='Original Dataset')\n",
        "plt.plot(k_values, list(accuracies_scaled.values()), marker='o', color='r', label='Scaled Dataset')\n",
        "plt.xlabel('k (Number of Neighbors)')\n",
        "plt.ylabel('Accuracy (%)')\n",
        "plt.title('Accuracy of KNN with Different Values of k')\n",
        "plt.legend()\n",
        "plt.grid(True)\n",
        "\n",
        "# Plot k vs Time Taken for both original and scaled datasets\n",
        "plt.subplot(1, 2, 2)\n",
        "plt.plot(k_values, list(times_taken_original.values()), marker='o', color='b', label='Original Dataset')\n",
        "plt.plot(k_values, list(times_taken_scaled.values()), marker='o', color='r', label='Scaled Dataset')\n",
        "plt.xlabel('k (Number of Neighbors)')\n",
        "plt.ylabel('Time Taken (seconds)')\n",
        "plt.title('Time Taken for KNN Predictions with Different Values of k')\n",
        "plt.legend()\n",
        "plt.grid(True)\n",
        "\n",
        "plt.tight_layout()\n",
        "plt.show()\n"
      ],
      "metadata": {
        "colab": {
          "base_uri": "https://localhost:8080/",
          "height": 1000
        },
        "id": "A_TOpmfIdeZP",
        "outputId": "3ec68dfc-6544-4c75-88bc-f321abddd917"
      },
      "execution_count": 28,
      "outputs": [
        {
          "output_type": "stream",
          "name": "stdout",
          "text": [
            "Accuracy for k=1 (Original): 68.70%, Time Taken: 0.8848 seconds\n",
            "Accuracy for k=2 (Original): 68.70%, Time Taken: 0.9395 seconds\n",
            "Accuracy for k=3 (Original): 67.39%, Time Taken: 1.5462 seconds\n",
            "Accuracy for k=4 (Original): 68.26%, Time Taken: 1.6421 seconds\n",
            "Accuracy for k=5 (Original): 68.70%, Time Taken: 0.9236 seconds\n",
            "Accuracy for k=6 (Original): 68.70%, Time Taken: 0.8787 seconds\n",
            "Accuracy for k=7 (Original): 69.13%, Time Taken: 0.8845 seconds\n",
            "Accuracy for k=8 (Original): 69.13%, Time Taken: 0.8907 seconds\n",
            "Accuracy for k=9 (Original): 70.00%, Time Taken: 0.8767 seconds\n",
            "Accuracy for k=10 (Original): 70.43%, Time Taken: 0.8827 seconds\n",
            "Accuracy for k=11 (Original): 73.04%, Time Taken: 0.8733 seconds\n",
            "Accuracy for k=12 (Original): 72.61%, Time Taken: 0.8753 seconds\n",
            "Accuracy for k=13 (Original): 74.35%, Time Taken: 0.9273 seconds\n",
            "Accuracy for k=14 (Original): 72.17%, Time Taken: 0.9015 seconds\n",
            "Accuracy for k=15 (Original): 73.91%, Time Taken: 0.8742 seconds\n",
            "Accuracy for k=1 (Scaled): 63.48%, Time Taken: 1.3948 seconds\n",
            "Accuracy for k=2 (Scaled): 63.48%, Time Taken: 1.5389 seconds\n",
            "Accuracy for k=3 (Scaled): 70.87%, Time Taken: 1.2251 seconds\n",
            "Accuracy for k=4 (Scaled): 67.39%, Time Taken: 0.8758 seconds\n",
            "Accuracy for k=5 (Scaled): 70.00%, Time Taken: 1.1581 seconds\n",
            "Accuracy for k=6 (Scaled): 67.83%, Time Taken: 0.8790 seconds\n",
            "Accuracy for k=7 (Scaled): 69.57%, Time Taken: 0.9342 seconds\n",
            "Accuracy for k=8 (Scaled): 70.43%, Time Taken: 0.8739 seconds\n",
            "Accuracy for k=9 (Scaled): 69.57%, Time Taken: 0.8702 seconds\n",
            "Accuracy for k=10 (Scaled): 67.39%, Time Taken: 0.8952 seconds\n",
            "Accuracy for k=11 (Scaled): 70.87%, Time Taken: 0.8852 seconds\n",
            "Accuracy for k=12 (Scaled): 71.30%, Time Taken: 0.9428 seconds\n",
            "Accuracy for k=13 (Scaled): 71.30%, Time Taken: 0.9237 seconds\n",
            "Accuracy for k=14 (Scaled): 70.87%, Time Taken: 1.3802 seconds\n",
            "Accuracy for k=15 (Scaled): 73.91%, Time Taken: 1.5607 seconds\n"
          ]
        },
        {
          "output_type": "display_data",
          "data": {
            "text/plain": [
              "<Figure size 1400x600 with 2 Axes>"
            ],
            "image/png": "[encoded data removed]"
          },
          "metadata": {}
        }
      ]
    }
  ]
}